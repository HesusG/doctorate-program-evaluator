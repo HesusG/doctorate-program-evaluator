{
 "cells": [
  {
   "cell_type": "markdown",
   "metadata": {},
   "source": [
    "# Generador de Explicaciones para Universidades\n",
    "\n",
    "Este notebook utiliza un modelo de lenguaje (LLM) para generar explicaciones detalladas sobre por qué cada universidad ha recibido determinadas calificaciones en sus métricas académicas.\n",
    "\n",
    "## Funcionalidades:\n",
    "1. Recalcular campos seleccionados para todas las universidades\n",
    "2. Generar explicaciones mediante LLM para las métricas académicas\n",
    "3. Almacenar las explicaciones en un nuevo campo `metadata.descripcion`\n",
    "4. Visualizar las explicaciones generadas"
   ]
  },
  {
   "cell_type": "markdown",
   "metadata": {},
   "source": [
    "## Configuración Inicial\n",
    "\n",
    "Primero importamos las librerías necesarias y configuramos el entorno:"
   ]
  },
  {
   "cell_type": "code",
   "execution_count": null,
   "metadata": {},
   "outputs": [],
   "source": [
    "import os\n",
    "import sys\n",
    "import json\n",
    "import pandas as pd\n",
    "from dotenv import load_dotenv\n",
    "from pymongo import MongoClient\n",
    "from bson.objectid import ObjectId\n",
    "from IPython.display import display, HTML\n",
    "\n",
    "# Asegurarnos de que podemos importar nuestro módulo de utilidades\n",
    "sys.path.append('./utils')\n",
    "from data_explainer import recalculate_fields, get_university_explanations, connect_mongodb\n",
    "\n",
    "# Cargar variables de entorno desde .env\n",
    "load_dotenv()\n",
    "\n",
    "# Funciones para mensajes estilizados\n",
    "def success_msg(msg):\n",
    "    display(HTML(f'<div style=\"background-color: #d4edda; color: #155724; padding: 10px; border-radius: 5px; margin: 10px 0;\">{msg}</div>'))\n",
    "\n",
    "def error_msg(msg):\n",
    "    display(HTML(f'<div style=\"background-color: #f8d7da; color: #721c24; padding: 10px; border-radius: 5px; margin: 10px 0;\">{msg}</div>'))\n",
    "\n",
    "def info_msg(msg):\n",
    "    display(HTML(f'<div style=\"background-color: #cce5ff; color: #004085; padding: 10px; border-radius: 5px; margin: 10px 0;\">{msg}</div>'))"
   ]
  },
  {
   "cell_type": "markdown",
   "metadata": {},
   "source": [
    "## Conexión a MongoDB\n",
    "\n",
    "Conectamos a la base de datos para poder acceder a la información de los programas:"
   ]
  },
  {
   "cell_type": "code",
   "execution_count": null,
   "metadata": {},
   "outputs": [],
   "source": [
    "# Conectar a MongoDB\n",
    "mongo_client, db = connect_mongodb()\n",
    "\n",
    "# Verificar la conexión\n",
    "if mongo_client and db:\n",
    "    success_msg(f\"Conexión exitosa a MongoDB: {db.name}\")\n",
    "    \n",
    "    # Obtener estadísticas básicas\n",
    "    num_universidades = db.programas.distinct(\"universidad\")\n",
    "    total_programas = db.programas.count_documents({})\n",
    "    info_msg(f\"Base de datos contiene {len(num_universidades)} universidades con un total de {total_programas} programas de doctorado.\")\n",
    "else:\n",
    "    error_msg(\"No se pudo conectar a MongoDB. Verifica la variable de entorno MONGODB_URI.\")"
   ]
  },
  {
   "cell_type": "markdown",
   "metadata": {},
   "source": [
    "## Análisis de las Métricas Actuales\n",
    "\n",
    "Antes de generar nuevas explicaciones, veamos qué métricas están disponibles actualmente:"
   ]
  },
  {
   "cell_type": "code",
   "execution_count": null,
   "metadata": {},
   "outputs": [],
   "source": [
    "# Obtener un resumen de las métricas disponibles por universidad\n",
    "def get_universities_stats():\n",
    "    universities_stats = db.programas.aggregate([\n",
    "        {\n",
    "            \"$group\": {\n",
    "                \"_id\": \"$universidad\",\n",
    "                \"stats\": {\"$first\": \"$stats\"},\n",
    "                \"has_metadata\": {\"$sum\": {\"$cond\": [{\"$ifNull\": [\"$metadata.descripcion\", False]}, 1, 0]}},\n",
    "                \"programa_count\": {\"$sum\": 1}\n",
    "            }\n",
    "        },\n",
    "        {\n",
    "            \"$project\": {\n",
    "                \"_id\": 0,\n",
    "                \"universidad\": \"$_id\",\n",
    "                \"stats\": 1,\n",
    "                \"has_metadata\": 1,\n",
    "                \"programa_count\": 1\n",
    "            }\n",
    "        }\n",
    "    ])\n",
    "    \n",
    "    return list(universities_stats)\n",
    "\n",
    "# Convertir a DataFrame para visualización\n",
    "stats_df = pd.DataFrame(get_universities_stats())\n",
    "\n",
    "if not stats_df.empty:\n",
    "    # Añadir columnas para cada métrica\n",
    "    for metric in ['innovacion', 'interdisciplinariedad', 'impacto', 'internacional', 'aplicabilidad']:\n",
    "        stats_df[metric] = stats_df['stats'].apply(lambda x: x.get(metric, 'N/A') if x else 'N/A')\n",
    "    \n",
    "    # Mostrar resumen\n",
    "    display(stats_df[['universidad', 'programa_count', 'has_metadata', 'innovacion', 'interdisciplinariedad', 'impacto', 'internacional', 'aplicabilidad']])\n",
    "    \n",
    "    # Estadísticas sobre universidades con/sin explicaciones\n",
    "    with_metadata = stats_df[stats_df['has_metadata'] > 0].shape[0]\n",
    "    total_unis = stats_df.shape[0]\n",
    "    \n",
    "    if with_metadata > 0:\n",
    "        info_msg(f\"{with_metadata} de {total_unis} universidades ({with_metadata/total_unis*100:.1f}%) ya tienen explicaciones generadas.\")\n",
    "    else:\n",
    "        info_msg(\"Ninguna universidad tiene explicaciones generadas todavía.\")\n",
    "else:\n",
    "    error_msg(\"No se encontraron datos de estadísticas para universidades.\")"
   ]
  },
  {
   "cell_type": "markdown",
   "metadata": {},
   "source": [
    "## Generar Explicaciones para las Métricas\n",
    "\n",
    "Ahora generaremos explicaciones mediante LLM para las métricas académicas de cada universidad. Puedes elegir recalcular todas o sólo algunas métricas específicas."
   ]
  },
  {
   "cell_type": "code",
   "execution_count": null,
   "metadata": {},
   "outputs": [],
   "source": [
    "# Recalcular todas las métricas y generar explicaciones\n",
    "results = recalculate_fields()\n",
    "\n",
    "# Mostrar resumen\n",
    "if \"error\" not in results:\n",
    "    success_msg(f\"Proceso completado. Se procesaron {results['universities_processed']} universidades y se actualizaron {results['documents_updated']} documentos.\")\n",
    "    \n",
    "    if results[\"errors\"]:\n",
    "        error_msg(f\"Se encontraron {len(results['errors'])} errores durante el proceso:\")\n",
    "        for err in results[\"errors\"][:5]:  # Mostrar solo los primeros 5 errores\n",
    "            print(f\"- {err}\")\n",
    "        if len(results[\"errors\"]) > 5:\n",
    "            print(f\"... y {len(results['errors']) - 5} más.\")\n",
    "else:\n",
    "    error_msg(f\"Error al recalcular campos: {results['error']}\")"
   ]
  },
  {
   "cell_type": "markdown",
   "metadata": {},
   "source": [
    "## Visualizar Explicaciones Generadas\n",
    "\n",
    "Veamos algunas de las explicaciones que se han generado:"
   ]
  },
  {
   "cell_type": "code",
   "execution_count": null,
   "metadata": {},
   "outputs": [],
   "source": [
    "# Obtener todas las explicaciones\n",
    "explanations = get_university_explanations()\n",
    "\n",
    "if \"error\" not in explanations:\n",
    "    # Mostrar el número de explicaciones obtenidas\n",
    "    info_msg(f\"Se encontraron explicaciones para {len(explanations)} universidades.\")\n",
    "    \n",
    "    # Crear un DataFrame para visualización\n",
    "    explanation_data = []\n",
    "    for uni, data in explanations.items():\n",
    "        explanation_data.append({\n",
    "            \"universidad\": uni,\n",
    "            \"explicacion\": data[\"descripcion\"],\n",
    "            \"ultima_actualizacion\": data[\"last_updated\"],\n",
    "            \"innovacion\": data[\"stats\"].get(\"innovacion\", \"N/A\"),\n",
    "            \"interdisciplinariedad\": data[\"stats\"].get(\"interdisciplinariedad\", \"N/A\"),\n",
    "            \"impacto\": data[\"stats\"].get(\"impacto\", \"N/A\"),\n",
    "            \"internacional\": data[\"stats\"].get(\"internacional\", \"N/A\"),\n",
    "            \"aplicabilidad\": data[\"stats\"].get(\"aplicabilidad\", \"N/A\")\n",
    "        })\n",
    "    \n",
    "    # Convertir a DataFrame\n",
    "    exp_df = pd.DataFrame(explanation_data)\n",
    "    \n",
    "    # Mostrar algunas explicaciones\n",
    "    for _, row in exp_df.sample(min(3, len(exp_df))).iterrows():\n",
    "        display(HTML(f'''\n",
    "        <div style=\"border: 1px solid #ddd; padding: 15px; border-radius: 5px; margin: 10px 0;\">\n",
    "            <h3 style=\"color: #3c40c6;\">{row['universidad']}</h3>\n",
    "            <p><strong>Última actualización:</strong> {row['ultima_actualizacion']}</p>\n",
    "            <div style=\"margin: 10px 0; display: flex; flex-wrap: wrap;\">\n",
    "                <div style=\"background-color: #e3f2fd; padding: 5px 10px; margin: 3px; border-radius: 3px;\">Innovación: {row['innovacion']}/10</div>\n",
    "                <div style=\"background-color: #e8f5e9; padding: 5px 10px; margin: 3px; border-radius: 3px;\">Interdisciplinariedad: {row['interdisciplinariedad']}/10</div>\n",
    "                <div style=\"background-color: #fff3e0; padding: 5px 10px; margin: 3px; border-radius: 3px;\">Impacto: {row['impacto']}/10</div>\n",
    "                <div style=\"background-color: #f3e5f5; padding: 5px 10px; margin: 3px; border-radius: 3px;\">Internacional: {row['internacional']}/10</div>\n",
    "                <div style=\"background-color: #e0f2f1; padding: 5px 10px; margin: 3px; border-radius: 3px;\">Aplicabilidad: {row['aplicabilidad']}/10</div>\n",
    "            </div>\n",
    "            <p><strong>Explicación:</strong></p>\n",
    "            <p>{row['explicacion'].replace('\\n', '<br>')}</p>\n",
    "        </div>\n",
    "        '''))\n",
    "else:\n",
    "    error_msg(f\"Error al obtener explicaciones: {explanations['error']}\")"
   ]
  },
  {
   "cell_type": "markdown",
   "metadata": {},
   "source": [
    "## Recalcular Métricas Específicas\n",
    "\n",
    "También puedes elegir recalcular sólo algunas métricas específicas:"
   ]
  },
  {
   "cell_type": "code",
   "execution_count": null,
   "metadata": {},
   "outputs": [],
   "source": [
    "# Recalcular sólo las métricas seleccionadas\n",
    "# Opciones: \"innovacion\", \"interdisciplinariedad\", \"impacto\", \"internacional\", \"aplicabilidad\"\n",
    "selected_metrics = [\"innovacion\", \"aplicabilidad\"]\n",
    "\n",
    "# Ejecutar la recalculación\n",
    "results = recalculate_fields(fields_to_recalculate=selected_metrics)\n",
    "\n",
    "# Mostrar resumen\n",
    "if \"error\" not in results:\n",
    "    success_msg(f\"Proceso completado para las métricas {', '.join(selected_metrics)}. \"\n",
    "                f\"Se procesaron {results['universities_processed']} universidades y se actualizaron {results['documents_updated']} documentos.\")\n",
    "else:\n",
    "    error_msg(f\"Error al recalcular campos: {results['error']}\")"
   ]
  },
  {
   "cell_type": "markdown",
   "metadata": {},
   "source": [
    "## Buscar Explicación para una Universidad Específica"
   ]
  },
  {
   "cell_type": "code",
   "execution_count": null,
   "metadata": {},
   "outputs": [],
   "source": [
    "# Nombre de la universidad a buscar\n",
    "universidad_nombre = \"Universidad de Barcelona\"  # Cambia esto por el nombre de la universidad que quieras consultar\n",
    "\n",
    "# Obtener explicación\n",
    "explicacion = get_university_explanations(university_name=universidad_nombre)\n",
    "\n",
    "if \"error\" not in explicacion:\n",
    "    if explicacion:\n",
    "        for uni, data in explicacion.items():\n",
    "            display(HTML(f'''\n",
    "            <div style=\"border: 1px solid #ddd; padding: 15px; border-radius: 5px; margin: 10px 0;\">\n",
    "                <h3 style=\"color: #3c40c6;\">{uni}</h3>\n",
    "                <p><strong>Última actualización:</strong> {data['last_updated']}</p>\n",
    "                <div style=\"margin: 10px 0; display: flex; flex-wrap: wrap;\">\n",
    "                    <div style=\"background-color: #e3f2fd; padding: 5px 10px; margin: 3px; border-radius: 3px;\">Innovación: {data['stats'].get('innovacion', 'N/A')}/10</div>\n",
    "                    <div style=\"background-color: #e8f5e9; padding: 5px 10px; margin: 3px; border-radius: 3px;\">Interdisciplinariedad: {data['stats'].get('interdisciplinariedad', 'N/A')}/10</div>\n",
    "                    <div style=\"background-color: #fff3e0; padding: 5px 10px; margin: 3px; border-radius: 3px;\">Impacto: {data['stats'].get('impacto', 'N/A')}/10</div>\n",
    "                    <div style=\"background-color: #f3e5f5; padding: 5px 10px; margin: 3px; border-radius: 3px;\">Internacional: {data['stats'].get('internacional', 'N/A')}/10</div>\n",
    "                    <div style=\"background-color: #e0f2f1; padding: 5px 10px; margin: 3px; border-radius: 3px;\">Aplicabilidad: {data['stats'].get('aplicabilidad', 'N/A')}/10</div>\n",
    "                </div>\n",
    "                <p><strong>Explicación:</strong></p>\n",
    "                <p>{data['descripcion'].replace('\\n', '<br>')}</p>\n",
    "            </div>\n",
    "            '''))\n",
    "    else:\n",
    "        info_msg(f\"No se encontró explicación para la universidad '{universidad_nombre}'.\")\n",
    "else:\n",
    "    error_msg(f\"Error al buscar explicación: {explicacion['error']}\")"
   ]
  },
  {
   "cell_type": "markdown",
   "metadata": {},
   "source": [
    "## Exportar Explicaciones a CSV\n",
    "\n",
    "Puedes exportar todas las explicaciones a un archivo CSV para análisis o respaldo:"
   ]
  },
  {
   "cell_type": "code",
   "execution_count": null,
   "metadata": {},
   "outputs": [],
   "source": [
    "# Obtener todas las explicaciones\n",
    "all_explanations = get_university_explanations()\n",
    "\n",
    "if \"error\" not in all_explanations:\n",
    "    # Crear un DataFrame para exportación\n",
    "    export_data = []\n",
    "    for uni, data in all_explanations.items():\n",
    "        export_data.append({\n",
    "            \"universidad\": uni,\n",
    "            \"explicacion\": data[\"descripcion\"],\n",
    "            \"ultima_actualizacion\": data[\"last_updated\"],\n",
    "            \"innovacion\": data[\"stats\"].get(\"innovacion\", \"N/A\"),\n",
    "            \"interdisciplinariedad\": data[\"stats\"].get(\"interdisciplinariedad\", \"N/A\"),\n",
    "            \"impacto\": data[\"stats\"].get(\"impacto\", \"N/A\"),\n",
    "            \"internacional\": data[\"stats\"].get(\"internacional\", \"N/A\"),\n",
    "            \"aplicabilidad\": data[\"stats\"].get(\"aplicabilidad\", \"N/A\")\n",
    "        })\n",
    "    \n",
    "    # Convertir a DataFrame\n",
    "    export_df = pd.DataFrame(export_data)\n",
    "    \n",
    "    # Nombre del archivo con fecha\n",
    "    from datetime import datetime\n",
    "    fecha = datetime.now().strftime(\"%Y%m%d_%H%M%S\")\n",
    "    filename = f\"explicaciones_universidades_{fecha}.csv\"\n",
    "    \n",
    "    # Exportar a CSV\n",
    "    export_df.to_csv(filename, index=False, encoding='utf-8-sig')\n",
    "    \n",
    "    success_msg(f\"Explicaciones exportadas correctamente a {filename}\")\n",
    "else:\n",
    "    error_msg(f\"Error al obtener explicaciones para exportar: {all_explanations['error']}\")"
   ]
  }
 ],
 "metadata": {
  "kernelspec": {
   "display_name": "Python 3 (ipykernel)",
   "language": "python",
   "name": "python3"
  },
  "language_info": {
   "codemirror_mode": {
    "name": "ipython",
    "version": 3
   },
   "file_extension": ".py",
   "mimetype": "text/x-python",
   "name": "python",
   "nbconvert_exporter": "python",
   "pygments_lexer": "ipython3",
   "version": "3.10.12"
  }
 },
 "nbformat": 4,
 "nbformat_minor": 4
}